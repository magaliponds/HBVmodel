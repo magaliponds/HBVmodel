{
 "cells": [
  {
   "cell_type": "code",
   "execution_count": 1,
   "metadata": {},
   "outputs": [],
   "source": [
    "import numpy as np\n",
    "import matplotlib as mpl"
   ]
  },
  {
   "cell_type": "code",
   "execution_count": 2,
   "metadata": {},
   "outputs": [],
   "source": [
    "#Deggental Precipitation\n",
    "Precipitation=np.genfromtxt('pr_sim1.txt',  dtype=float, delimiter = ',')\n",
    "Precipitation_Location = np.genfromtxt('pr_model_lonlat.txt', dtype = float, delimiter = ',')\n",
    "Precipitation_Time = np.genfromtxt('pr_model_timeseries.txt', dtype = float, delimiter = ',')"
   ]
  },
  {
   "cell_type": "code",
   "execution_count": 3,
   "metadata": {},
   "outputs": [
    {
     "name": "stdout",
     "output_type": "stream",
     "text": [
      "(55152, 142)\n",
      "(142, 2)\n",
      "(55152, 3)\n",
      "The longitude reaches from 9.695269 to 10.22709\n",
      "The latitude reaches from 46.855831 to 47.209751\n"
     ]
    }
   ],
   "source": [
    "print(Precipitation.shape)\n",
    "print(Precipitation_Location.shape)\n",
    "print(Precipitation_Time.shape)\n",
    "print('The longitude reaches from', min(Precipitation_Location[:,0]), 'to', max(Precipitation_Location[:,0]))\n",
    "print('The latitude reaches from', min(Precipitation_Location[:,1]), 'to', max(Precipitation_Location[:,1]))"
   ]
  },
  {
   "cell_type": "code",
   "execution_count": 4,
   "metadata": {},
   "outputs": [],
   "source": [
    "#Deggental Temperature\n",
    "Temperature = np.genfromtxt('tas_sim1.txt',  dtype=float, delimiter = ',')\n",
    "Temperature_Location = np.genfromtxt('tas_model_lonlat.txt', dtype = float, delimiter = ',')\n",
    "Temperature_Time = np.genfromtxt('tas_model_timeseries.txt', dtype = float, delimiter = ',')"
   ]
  },
  {
   "cell_type": "code",
   "execution_count": 5,
   "metadata": {},
   "outputs": [
    {
     "name": "stdout",
     "output_type": "stream",
     "text": [
      "(55152, 142)\n",
      "(142, 2)\n",
      "(55152, 3)\n",
      "The longitude reaches from 9.695269 to 10.22709\n",
      "The latitude reaches from 46.855831 to 47.209751\n"
     ]
    }
   ],
   "source": [
    "print(Temperature.shape)\n",
    "print(Temperature_Location.shape)\n",
    "print(Temperature_Time.shape)\n",
    "print('The longitude reaches from', min(Temperature_Location[:,0]), 'to', max(Temperature_Location[:,0]))\n",
    "print('The latitude reaches from', min(Temperature_Location[:,1]), 'to', max(Temperature_Location[:,1]))"
   ]
  },
  {
   "cell_type": "code",
   "execution_count": 6,
   "metadata": {},
   "outputs": [
    {
     "name": "stdout",
     "output_type": "stream",
     "text": [
      "(55152, 142)\n",
      "(142, 2)\n",
      "(55152, 3)\n",
      "The longitude reaches from 9.695269 to 10.22709\n",
      "The latitude reaches from 46.855831 to 47.209751\n"
     ]
    }
   ],
   "source": [
    "#Deggental Temperature_Max\n",
    "Temperature_Max = np.genfromtxt('tasmax_sim1.txt',  dtype=float, delimiter = ',')\n",
    "Temperature_Max_Location = np.genfromtxt('tasmax_model_lonlat.txt', dtype = float, delimiter = ',')\n",
    "Temperature_Max_Time = np.genfromtxt('tasmax_model_timeseries.txt', dtype = float, delimiter = ',')\n",
    "print(Temperature_Max.shape)\n",
    "print(Temperature_Max_Location.shape)\n",
    "print(Temperature_Max_Time.shape)\n",
    "print('The longitude reaches from', min(Temperature_Max_Location[:,0]), 'to', max(Temperature_Max_Location[:,0]))\n",
    "print('The latitude reaches from', min(Temperature_Max_Location[:,1]), 'to', max(Temperature_Max_Location[:,1]))"
   ]
  },
  {
   "cell_type": "code",
   "execution_count": 7,
   "metadata": {},
   "outputs": [
    {
     "name": "stdout",
     "output_type": "stream",
     "text": [
      "(55152, 142)\n",
      "(142, 2)\n",
      "(55152, 3)\n",
      "The longitude reaches from 9.695269 to 10.22709\n",
      "The latitude reaches from 46.855831 to 47.209751\n"
     ]
    }
   ],
   "source": [
    "#Deggental Temperature_Min\n",
    "Temperature_Min = np.genfromtxt('tasmin_sim1.txt',  dtype=float, delimiter = ',')\n",
    "Temperature_Min_Location = np.genfromtxt('tasmin_model_lonlat.txt', dtype = float, delimiter = ',')\n",
    "Temperature_Min_Time = np.genfromtxt('tasmin_model_timeseries.txt', dtype = float, delimiter = ',')\n",
    "print(Temperature_Min.shape)\n",
    "print(Temperature_Min_Location.shape)\n",
    "print(Temperature_Min_Time.shape)\n",
    "print('The longitude reaches from', min(Temperature_Min_Location[:,0]), 'to', max(Temperature_Min_Location[:,0]))\n",
    "print('The latitude reaches from', min(Temperature_Min_Location[:,1]), 'to', max(Temperature_Min_Location[:,1]))"
   ]
  },
  {
   "cell_type": "code",
   "execution_count": null,
   "metadata": {},
   "outputs": [],
   "source": []
  }
 ],
 "metadata": {
  "kernelspec": {
   "display_name": "Python 3",
   "language": "python",
   "name": "python3"
  },
  "language_info": {
   "codemirror_mode": {
    "name": "ipython",
    "version": 3
   },
   "file_extension": ".py",
   "mimetype": "text/x-python",
   "name": "python",
   "nbconvert_exporter": "python",
   "pygments_lexer": "ipython3",
   "version": "3.6.8"
  }
 },
 "nbformat": 4,
 "nbformat_minor": 2
}
